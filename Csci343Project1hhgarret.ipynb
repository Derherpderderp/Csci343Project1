{
 "cells": [
  {
   "cell_type": "code",
   "execution_count": 2,
   "id": "7352c6e3",
   "metadata": {
    "scrolled": true
   },
   "outputs": [],
   "source": [
    "import numpy as np\n",
    "import pandas as pd\n",
    "import matplotlib.pyplot as plt\n",
    "%matplotlib inline\n",
    "import seaborn as sns\n",
    "import warnings\n",
    "warnings.filterwarnings(\"ignore\")\n",
    "import geopandas\n",
    "import plot_utils\n",
    "import mpl_toolkits"
   ]
  },
  {
   "cell_type": "code",
   "execution_count": 3,
   "id": "1ea3a1d3",
   "metadata": {},
   "outputs": [],
   "source": [
    "# Read data into a pandas dataframe\n",
    "ld = pd.read_csv(\"OfficeWarehouse.csv\", encoding=\"ISO-8859-1\")"
   ]
  },
  {
   "cell_type": "code",
   "execution_count": 4,
   "id": "5a47495f",
   "metadata": {},
   "outputs": [
    {
     "name": "stdout",
     "output_type": "stream",
     "text": [
      "Index(['Row ID', 'Order ID', 'Order Date', 'Ship Date', 'Ship Mode',\n",
      "       'Customer ID', 'Customer Name', 'Segment', 'Country/Region', 'City',\n",
      "       'State', 'Postal Code', 'Region', 'Product ID', 'Category',\n",
      "       'Sub-Category', 'Product Name', 'Sales', 'Quantity', 'Discount',\n",
      "       'Profit', 'Returned'],\n",
      "      dtype='object')\n"
     ]
    }
   ],
   "source": [
    "print(ld.columns) #See what I'm working with"
   ]
  },
  {
   "cell_type": "code",
   "execution_count": 100,
   "id": "624db891",
   "metadata": {},
   "outputs": [
    {
     "name": "stdout",
     "output_type": "stream",
     "text": [
      "{'Kentucky': 11199.696600000005, 'California': 76381.38710000017, 'Florida': -3399.3017, 'North Carolina': -7490.912200000003, 'Washington': 33402.651699999995, 'Texas': -25729.3563, 'Wisconsin': 8401.800399999998, 'Utah': 2546.5335000000005, 'Nebraska': 2037.0942000000007, 'Pennsylvania': -15559.960300000013, 'Illinois': -12607.88699999998, 'Minnesota': 10823.1874, 'Michigan': 24463.187599999994, 'Delaware': 9977.374800000001, 'Indiana': 18382.936300000005, 'New York': 74038.54860000005, 'Arizona': -3427.9246, 'Virginia': 18597.9504, 'Tennessee': -5341.6936, 'Alabama': 5786.825299999999, 'South Carolina': 1769.0566000000003, 'Oregon': -1190.4704999999992, 'Colorado': -6527.857900000001, 'Iowa': 1183.8119000000002, 'Ohio': -16971.376600000018, 'Missouri': 6436.210499999999, 'Oklahoma': 4853.956, 'New Mexico': 1157.1161, 'Louisiana': 2196.102300000001, 'Connecticut': 3511.4918000000002, 'New Jersey': 9772.9138, 'Massachusetts': 6785.501600000005, 'Georgia': 16250.043300000003, 'Nevada': 3316.7659, 'Rhode Island': 7285.629300000001, 'Mississippi': 3172.9761999999982, 'Arkansas': 4008.6871, 'Montana': 1833.3285, 'New Hampshire': 1706.5028, 'Maryland': 7031.178799999997, 'District of Columbia': 1059.5892999999999, 'Kansas': 836.4435000000001, 'Vermont': 2244.9783, 'Maine': 454.4862, 'South Dakota': 394.8283, 'Idaho': 826.7230999999999, 'North Dakota': 230.14969999999997, 'Wyoming': 100.196, 'West Virginia': 185.9216}\n",
      "\n",
      "\n",
      "{'Kentucky': 139, 'California': 2001, 'Florida': 383, 'North Carolina': 249, 'Washington': 506, 'Texas': 985, 'Wisconsin': 110, 'Utah': 53, 'Nebraska': 38, 'Pennsylvania': 587, 'Illinois': 492, 'Minnesota': 89, 'Michigan': 255, 'Delaware': 96, 'Indiana': 149, 'New York': 1128, 'Arizona': 224, 'Virginia': 224, 'Tennessee': 183, 'Alabama': 61, 'South Carolina': 42, 'Oregon': 124, 'Colorado': 182, 'Iowa': 30, 'Ohio': 469, 'Missouri': 66, 'Oklahoma': 66, 'New Mexico': 37, 'Louisiana': 42, 'Connecticut': 82, 'New Jersey': 130, 'Massachusetts': 135, 'Georgia': 184, 'Nevada': 39, 'Rhode Island': 56, 'Mississippi': 53, 'Arkansas': 60, 'Montana': 15, 'New Hampshire': 27, 'Maryland': 105, 'District of Columbia': 10, 'Kansas': 24, 'Vermont': 11, 'Maine': 8, 'South Dakota': 12, 'Idaho': 21, 'North Dakota': 7, 'Wyoming': 1, 'West Virginia': 4}\n",
      "\n",
      "\n",
      "[('California', 76381.38710000017), ('New York', 74038.54860000005), ('Washington', 33402.651699999995), ('Michigan', 24463.187599999994), ('Virginia', 18597.9504), ('Indiana', 18382.936300000005), ('Georgia', 16250.043300000003), ('Kentucky', 11199.696600000005), ('Minnesota', 10823.1874), ('Delaware', 9977.374800000001), ('New Jersey', 9772.9138), ('Wisconsin', 8401.800399999998), ('Rhode Island', 7285.629300000001), ('Maryland', 7031.178799999997), ('Massachusetts', 6785.501600000005), ('Missouri', 6436.210499999999), ('Alabama', 5786.825299999999), ('Oklahoma', 4853.956), ('Arkansas', 4008.6871), ('Connecticut', 3511.4918000000002), ('Nevada', 3316.7659), ('Mississippi', 3172.9761999999982), ('Utah', 2546.5335000000005), ('Vermont', 2244.9783), ('Louisiana', 2196.102300000001), ('Nebraska', 2037.0942000000007), ('Montana', 1833.3285), ('South Carolina', 1769.0566000000003), ('New Hampshire', 1706.5028), ('Iowa', 1183.8119000000002), ('New Mexico', 1157.1161), ('District of Columbia', 1059.5892999999999), ('Kansas', 836.4435000000001), ('Idaho', 826.7230999999999), ('Maine', 454.4862), ('South Dakota', 394.8283), ('North Dakota', 230.14969999999997), ('West Virginia', 185.9216), ('Wyoming', 100.196), ('Oregon', -1190.4704999999992), ('Florida', -3399.3017), ('Arizona', -3427.9246), ('Tennessee', -5341.6936), ('Colorado', -6527.857900000001), ('North Carolina', -7490.912200000003), ('Illinois', -12607.88699999998), ('Pennsylvania', -15559.960300000013), ('Ohio', -16971.376600000018), ('Texas', -25729.3563)]\n",
      "\n",
      "\n"
     ]
    }
   ],
   "source": [
    "states = {} #[state][statesprofit]\n",
    "stateCount = {} #[state][statecount]\n",
    "\n",
    "for i in range(len(ld)):\n",
    "    line = ld.loc[i]\n",
    "    if line[\"State\"] not in states:\n",
    "        states.update({line[\"State\"]: line[\"Profit\"]})\n",
    "        stateCount.update({line[\"State\"]: 1})\n",
    "    else:\n",
    "        states.update({line[\"State\"] : (states.get(line[\"State\"]) + line[\"Profit\"])})\n",
    "        stateCount.update({line[\"State\"] : stateCount.get(line[\"State\"]) + 1})\n",
    "    \n",
    "sortedStates = sorted(states.items(), key=lambda x:x[1], reverse=True)\n",
    "print(states)\n",
    "print('\\n')\n",
    "print(stateCount)\n",
    "print('\\n')\n",
    "print(sortedStates)\n",
    "print('\\n')"
   ]
  },
  {
   "cell_type": "code",
   "execution_count": 99,
   "id": "40233049",
   "metadata": {
    "scrolled": false
   },
   "outputs": [],
   "source": [
    "statesMap = geopandas.read_file('cb_2014_us_state_5m/cb_2014_us_state_5m.shp')\n",
    "# print(statesMap)"
   ]
  },
  {
   "cell_type": "code",
   "execution_count": 164,
   "id": "22e1698d",
   "metadata": {},
   "outputs": [
    {
     "name": "stdout",
     "output_type": "stream",
     "text": [
      "   STATEFP                  NAME\n",
      "0       04               Arizona\n",
      "1       05              Arkansas\n",
      "2       06            California\n",
      "3       09           Connecticut\n",
      "4       12               Florida\n",
      "5       13               Georgia\n",
      "6       16                 Idaho\n",
      "7       17              Illinois\n",
      "8       19                  Iowa\n",
      "9       20                Kansas\n",
      "10      22             Louisiana\n",
      "11      24              Maryland\n",
      "12      27             Minnesota\n",
      "13      28           Mississippi\n",
      "14      29              Missouri\n",
      "15      31              Nebraska\n",
      "16      32                Nevada\n",
      "17      34            New Jersey\n",
      "18      36              New York\n",
      "19      38          North Dakota\n",
      "20      39                  Ohio\n",
      "21      42          Pennsylvania\n",
      "22      45        South Carolina\n",
      "23      46          South Dakota\n",
      "24      48                 Texas\n",
      "25      49                  Utah\n",
      "26      51              Virginia\n",
      "27      56               Wyoming\n",
      "28      41                Oregon\n",
      "29      54         West Virginia\n",
      "30      01               Alabama\n",
      "31      08              Colorado\n",
      "32      10              Delaware\n",
      "33      11  District of Columbia\n",
      "34      18               Indiana\n",
      "35      21              Kentucky\n",
      "36      23                 Maine\n",
      "37      25         Massachusetts\n",
      "38      26              Michigan\n",
      "39      30               Montana\n",
      "40      33         New Hampshire\n",
      "41      35            New Mexico\n",
      "42      37        North Carolina\n",
      "43      40              Oklahoma\n",
      "44      44          Rhode Island\n",
      "45      47             Tennessee\n",
      "46      50               Vermont\n",
      "47      53            Washington\n",
      "48      55             Wisconsin\n"
     ]
    }
   ],
   "source": [
    "validStates = statesMap[0:0] #allows me to add line by line, so no rows are skipped\n",
    "count = 0\n",
    "for i in range(len(statesMap)):\n",
    "    if statesMap.loc[i]['STATEFP'] not in ['02', '66', '60', '69', '72', '78', '15']:\n",
    "        validStates.loc[count] = (statesMap.loc[i])\n",
    "        count += 1\n",
    "#     print(statesMap.loc[i])\n",
    "\n",
    "\n",
    "# validStates = statesMap[~statesMap['STATEFP'].isin(['02', '66', '60', '69', '72', '78', '15'])]\n",
    "# print(statesMap[['STATEFP', 'NAME']])\n",
    "print(validStates[['STATEFP', 'NAME']])"
   ]
  },
  {
   "cell_type": "code",
   "execution_count": 165,
   "id": "957a5184",
   "metadata": {},
   "outputs": [],
   "source": [
    "# validStates.plot(figsize=(20,20))"
   ]
  },
  {
   "cell_type": "code",
   "execution_count": 166,
   "id": "ee02ac76",
   "metadata": {
    "scrolled": false
   },
   "outputs": [
    {
     "name": "stdout",
     "output_type": "stream",
     "text": [
      "{'Kentucky': 11199.696600000005, 'California': 76381.38710000017, 'Florida': -3399.3017, 'North Carolina': -7490.912200000003, 'Washington': 33402.651699999995, 'Texas': -25729.3563, 'Wisconsin': 8401.800399999998, 'Utah': 2546.5335000000005, 'Nebraska': 2037.0942000000007, 'Pennsylvania': -15559.960300000013, 'Illinois': -12607.88699999998, 'Minnesota': 10823.1874, 'Michigan': 24463.187599999994, 'Delaware': 9977.374800000001, 'Indiana': 18382.936300000005, 'New York': 74038.54860000005, 'Arizona': -3427.9246, 'Virginia': 18597.9504, 'Tennessee': -5341.6936, 'Alabama': 5786.825299999999, 'South Carolina': 1769.0566000000003, 'Oregon': -1190.4704999999992, 'Colorado': -6527.857900000001, 'Iowa': 1183.8119000000002, 'Ohio': -16971.376600000018, 'Missouri': 6436.210499999999, 'Oklahoma': 4853.956, 'New Mexico': 1157.1161, 'Louisiana': 2196.102300000001, 'Connecticut': 3511.4918000000002, 'New Jersey': 9772.9138, 'Massachusetts': 6785.501600000005, 'Georgia': 16250.043300000003, 'Nevada': 3316.7659, 'Rhode Island': 7285.629300000001, 'Mississippi': 3172.9761999999982, 'Arkansas': 4008.6871, 'Montana': 1833.3285, 'New Hampshire': 1706.5028, 'Maryland': 7031.178799999997, 'District of Columbia': 1059.5892999999999, 'Kansas': 836.4435000000001, 'Vermont': 2244.9783, 'Maine': 454.4862, 'South Dakota': 394.8283, 'Idaho': 826.7230999999999, 'North Dakota': 230.14969999999997, 'Wyoming': 100.196, 'West Virginia': 185.9216}\n"
     ]
    }
   ],
   "source": [
    "#validStates['Profit'] = states.values()\n",
    "#validStates.plot(columns='Profit')\n",
    "\n",
    "fips2state = {\"01\": \"AL\", \"02\": \"AK\", \"04\": \"AZ\", \"05\": \"AR\", \"06\": \"CA\",\"08\": \"CO\", \"09\": \"CT\", \"10\": \"DE\", \"11\": \"DC\", \"12\": \"FL\",\"13\": \"GA\", \"15\": \"HI\", \"16\": \"ID\", \"17\": \"IL\", \"18\": \"IN\",\"19\": \"IA\", \"20\": \"KS\", \"21\": \"KY\", \"22\": \"LA\", \"23\": \"ME\",\"24\": \"MD\", \"25\": \"MA\", \"26\": \"MI\", \"27\": \"MN\", \"28\": \"MS\",\"29\": \"MO\", \"30\": \"MT\", \"31\": \"NE\", \"32\": \"NV\", \"33\": \"NH\",\"34\": \"NJ\", \"35\": \"NM\", \"36\": \"NY\", \"37\": \"NC\", \"38\": \"ND\",\"39\": \"OH\", \"40\": \"OK\", \"41\": \"OR\", \"42\": \"PA\", \"44\": \"RI\",\"45\": \"SC\", \"46\": \"SD\", \"47\": \"TN\", \"48\": \"TX\", \"49\": \"UT\",\"50\": \"VT\", \"51\": \"VA\", \"53\": \"WA\", \"54\": \"WV\", \"55\": \"WI\",\"56\": \"WY\",  # dictionary mapping FIPS code to state abbreviation\n",
    "    }\n",
    "\n",
    "translation = {'AK': 'Alaska','AL': 'Alabama','AR': 'Arkansas','AS': 'American Samoa','AZ': 'Arizona','CA': 'California','CO': 'Colorado','CT': 'Connecticut','DC': 'District of Columbia','DE': 'Delaware','FL': 'Florida','GA': 'Georgia','GU': 'Guam','HI': 'Hawaii','IA': 'Iowa','ID': 'Idaho','IL': 'Illinois','IN': 'Indiana','KS': 'Kansas','KY': 'Kentucky','LA': 'Louisiana','MA': 'Massachusetts','MD': 'Maryland','ME': 'Maine','MI': 'Michigan','MN': 'Minnesota','MO': 'Missouri','MP': 'Northern Mariana Islands','MS': 'Mississippi','MT': 'Montana','NA': 'National','NC': 'North Carolina','ND': 'North Dakota','NE': 'Nebraska','NH': 'New Hampshire','NJ': 'New Jersey','NM': 'New Mexico','NV': 'Nevada','NY': 'New York','OH': 'Ohio','OK': 'Oklahoma','OR': 'Oregon','PA': 'Pennsylvania','PR': 'Puerto Rico','RI': 'Rhode Island','SC': 'South Carolina','SD': 'South Dakota','TN': 'Tennessee','TX': 'Texas','UT': 'Utah','VA': 'Virginia','VI': 'Virgin Islands','VT': 'Vermont','WA': 'Washington','WI': 'Wisconsin','WV': 'West Virginia','WY': 'Wyoming'\n",
    "        }\n",
    "for element in fips2state:\n",
    "    fips2state.update({element:translation[fips2state[element]]})\n",
    "\n",
    "\n",
    "print(states)"
   ]
  },
  {
   "cell_type": "code",
   "execution_count": 167,
   "id": "66087cbe",
   "metadata": {
    "scrolled": false
   },
   "outputs": [],
   "source": [
    "\n",
    "validStatesProfits = []\n",
    "validStatesProfitPerCount = []\n",
    "# sortedStateCount = sorted(stateCount) #Names of the states in alphabetical orter\n",
    "# print(stateCount)\n",
    "# for s in sortedStateCount:\n",
    "#     print(stateCount[s])\n",
    "\n",
    "\n",
    "for i in range(len(states)):\n",
    "    try:\n",
    "        validStatesProfits.append(states.get(fips2state[validStates.loc[i]['STATEFP']]))\n",
    "        validStatesProfitPerCount.append(states.get(fips2state[validStates.loc[i]['STATEFP']]) / stateCount.get(fips2state[validStates.loc[i]['STATEFP']]))\n",
    "    except:\n",
    "        print('error')\n",
    "        validStatesProfits.append(0)\n",
    "        validStatesProfitPerCount.append(0)\n",
    "#         continue\n",
    "        \n",
    "\n",
    "\n",
    "validStates['Profit'] = validStatesProfits\n",
    "validStates['ProfitPerCount'] = validStatesProfitPerCount\n",
    "# print(sortedStateCount)\n",
    "# validStates.loc[1]['Profit'] = states[fips2state[validStates.loc[1]['STATEFP']]]\n",
    "# print(validStates)\n",
    "# validStates['Profit'] = validStatesProfits\n",
    "# print(validStates['COUNTYNS'])\n",
    "# print(validStates)"
   ]
  },
  {
   "cell_type": "code",
   "execution_count": 168,
   "id": "42445999",
   "metadata": {},
   "outputs": [
    {
     "name": "stdout",
     "output_type": "stream",
     "text": [
      "46.4804\n",
      "    ProfitPerCount                  NAME      Profit STATEFP\n",
      "0       -15.303235               Arizona  -3427.9246      04\n",
      "1        66.811452              Arkansas   4008.6871      05\n",
      "2        38.171608            California  76381.3871      06\n",
      "3        42.823071           Connecticut   3511.4918      09\n",
      "4        -8.875461               Florida  -3399.3017      12\n",
      "5        88.315453               Georgia  16250.0433      13\n",
      "6        39.367767                 Idaho    826.7231      16\n",
      "7       -25.625787              Illinois -12607.8870      17\n",
      "8        39.460397                  Iowa   1183.8119      19\n",
      "9        34.851813                Kansas    836.4435      20\n",
      "10       52.288150             Louisiana   2196.1023      22\n",
      "11       66.963608              Maryland   7031.1788      24\n",
      "12      121.608847             Minnesota  10823.1874      27\n",
      "13       59.867475           Mississippi   3172.9762      28\n",
      "14       97.518341              Missouri   6436.2105      29\n",
      "15       53.607742              Nebraska   2037.0942      31\n",
      "16       85.045279                Nevada   3316.7659      32\n",
      "17       75.176260            New Jersey   9772.9138      34\n",
      "18       65.637011              New York  74038.5486      36\n",
      "19       32.878529          North Dakota    230.1497      38\n",
      "20      -36.186304                  Ohio -16971.3766      39\n",
      "21      -26.507598          Pennsylvania -15559.9603      42\n",
      "22       42.120395        South Carolina   1769.0566      45\n",
      "23       32.902358          South Dakota    394.8283      46\n",
      "24      -26.121174                 Texas -25729.3563      48\n",
      "25       48.047802                  Utah   2546.5335      49\n",
      "26       83.026564              Virginia  18597.9504      51\n",
      "27      100.196000               Wyoming    100.1960      56\n",
      "28       -9.600569                Oregon  -1190.4705      41\n",
      "29       46.480400         West Virginia    185.9216      54\n",
      "30       94.865989               Alabama   5786.8253      01\n",
      "31      -35.867351              Colorado  -6527.8579      08\n",
      "32      103.930988              Delaware   9977.3748      10\n",
      "33      105.958930  District of Columbia   1059.5893      11\n",
      "34      123.375411               Indiana  18382.9363      18\n",
      "35       80.573357              Kentucky  11199.6966      21\n",
      "36       56.810775                 Maine    454.4862      23\n",
      "37       50.262975         Massachusetts   6785.5016      25\n",
      "38       95.934069              Michigan  24463.1876      26\n",
      "39      122.221900               Montana   1833.3285      30\n",
      "40       63.203807         New Hampshire   1706.5028      33\n",
      "41       31.273408            New Mexico   1157.1161      35\n",
      "42      -30.083985        North Carolina  -7490.9122      37\n",
      "43       73.544788              Oklahoma   4853.9560      40\n",
      "44      130.100523          Rhode Island   7285.6293      44\n",
      "45      -29.189583             Tennessee  -5341.6936      47\n",
      "46      204.088936               Vermont   2244.9783      50\n",
      "47       66.013146            Washington  33402.6517      53\n",
      "48       76.380004             Wisconsin   8401.8004      55\n"
     ]
    },
    {
     "data": {
      "image/png": "[encoded data removed]",
      "text/plain": [
       "<Figure size 432x288 with 2 Axes>"
      ]
     },
     "metadata": {
      "needs_background": "light"
     },
     "output_type": "display_data"
    }
   ],
   "source": [
    "# validStates.loc[np.random.choice(validStates.index, 40), 'Profit'] = np.nan\n",
    "fig, ax = plt.subplots(1, 1)\n",
    "validStates.plot(column='Profit', figsize=(45,45), ax=ax, legend = True, cmap='OrRd', legend_kwds={'label': \"Total Profit per State\", 'orientation': \"horizontal\"})\n",
    "plt.axis(\"off\")\n",
    "\n",
    "# print(validStates['Profit'])\n",
    "# print(\"\\n\")\n",
    "print(states.get(fips2state[validStates.loc[29]['STATEFP']]) / stateCount.get(fips2state[validStates.loc[29]['STATEFP']]))\n",
    "print(validStates[['ProfitPerCount', 'NAME', 'Profit', 'STATEFP']])\n",
    "# print(validStates.loc[52])"
   ]
  },
  {
   "cell_type": "code",
   "execution_count": 169,
   "id": "683260e9",
   "metadata": {},
   "outputs": [
    {
     "data": {
      "text/plain": [
       "(-127.62233794999999, -64.06073105, 23.2714922, 50.6278278)"
      ]
     },
     "execution_count": 169,
     "metadata": {},
     "output_type": "execute_result"
    },
    {
     "data": {
      "image/png": "[encoded data removed]",
      "text/plain": [
       "<Figure size 432x288 with 2 Axes>"
      ]
     },
     "metadata": {
      "needs_background": "light"
     },
     "output_type": "display_data"
    }
   ],
   "source": [
    "fig, ax = plt.subplots(1, 1)\n",
    "validStates.plot(column='ProfitPerCount', figsize=(45,45), ax=ax, legend = True, cmap='OrRd', legend_kwds={'label': \"Profit per Count per State\", 'orientation': \"horizontal\"})\n",
    "plt.axis(\"off\")\n",
    "# validStates.explore(\n",
    "#      column=\"ProfitPerCount\", \n",
    "#      cmap='OrRd',\n",
    "#      tooltip=[\"NAME\",\"ProfitPerCount\"], \n",
    "#      popup=True,\n",
    "#      tiles=\"CartoDB positron\",\n",
    "#      style_kwds=dict(color=\"black\") # use black outline\n",
    "# )"
   ]
  },
  {
   "cell_type": "code",
   "execution_count": null,
   "id": "77872100",
   "metadata": {},
   "outputs": [],
   "source": []
  }
 ],
 "metadata": {
  "kernelspec": {
   "display_name": "Python 3 (ipykernel)",
   "language": "python",
   "name": "python3"
  },
  "language_info": {
   "codemirror_mode": {
    "name": "ipython",
    "version": 3
   },
   "file_extension": ".py",
   "mimetype": "text/x-python",
   "name": "python",
   "nbconvert_exporter": "python",
   "pygments_lexer": "ipython3",
   "version": "3.8.5"
  }
 },
 "nbformat": 4,
 "nbformat_minor": 5
}
